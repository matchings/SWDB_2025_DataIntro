{
 "cells": [
  {
   "cell_type": "code",
   "execution_count": 2,
   "id": "fd2a7047-9da6-4b55-a111-f1b159b3a5cf",
   "metadata": {
    "tags": []
   },
   "outputs": [],
   "source": [
    "import pandas as pd "
   ]
  },
  {
   "cell_type": "code",
   "execution_count": 3,
   "id": "4248ea4f-7365-4ed7-a8a3-ead4982710ae",
   "metadata": {
    "tags": []
   },
   "outputs": [
    {
     "name": "stdout",
     "output_type": "stream",
     "text": [
      "https://api.allenneuraldynamics.org/v1/metadata_index/data_assets\n"
     ]
    }
   ],
   "source": [
    "from aind_data_access_api.document_db import MetadataDbClient\n",
    "\n",
    "API_GATEWAY_HOST = \"api.allenneuraldynamics.org\"\n",
    "DATABASE = 'metadata_index'\n",
    "COLLECTION = 'data_assets'\n",
    "\n",
    "docdb_api_client = MetadataDbClient(\n",
    "   host=API_GATEWAY_HOST,\n",
    "   database=DATABASE,\n",
    "   collection=COLLECTION,\n",
    ")\n",
    "print(docdb_api_client._base_url)"
   ]
  },
  {
   "cell_type": "code",
   "execution_count": 4,
   "id": "75e41a71-d97b-4f32-9384-409e288e4bb5",
   "metadata": {
    "tags": []
   },
   "outputs": [],
   "source": [
    "aggregate = [\n",
    "  {\n",
    "    \"$match\": {\n",
    "      \"session.session_type\": \"BCI single neuron stim\",\n",
    "      \"data_description.data_level\": \"derived\",\n",
    "      \"processing.processing_pipeline.data_processes.start_date_time\":{\"$gte\":\"2025-07-21\"}\n",
    "    }\n",
    "  },\n",
    "  {\n",
    "    \"$project\": {\n",
    "      \"name\": 1,\n",
    "      \"subject_id\": \"$data_description.subject_id\",\n",
    "      \"session_time\": \"$session.session_start_time\", \n",
    "      \"session_type\": \"$session.session_type\", \n",
    "      \"genotype\": \"$subject.genotype\", \n",
    "      \"virus_injection_materials\": \"$procedures.subject_procedures.procedures.injection_materials.name\",\n",
    "      \"session_number\": {\n",
    "        \"$filter\": {\n",
    "          \"input\": \"$session.stimulus_epochs\",\n",
    "          \"as\": \"epoch\",\n",
    "          \"cond\": { \"$eq\": [\"$$epoch.stimulus_name\", \"single neuron BCI conditioning\"] }\n",
    "        }\n",
    "      },\n",
    "      'ophys_fov': {\n",
    "            '$map': {\n",
    "                'input': '$session.data_streams',\n",
    "                'as': 'stream',\n",
    "                'in': {\n",
    "                    '$map': {\n",
    "                            'input': '$$stream.ophys_fovs',\n",
    "                            'as': 'fov',\n",
    "                            'in': '$$fov.notes'\n",
    "                    }\n",
    "                }\n",
    "            }\n",
    "        }\n",
    "\n",
    "    }\n",
    "  },\n",
    "  {\n",
    "    \"$project\": {\n",
    "      \"name\": 1,\n",
    "      \"subject_id\": 1,\n",
    "      \"session_time\": 1, \n",
    "      \"session_type\": 1,\n",
    "      \"genotype\": 1,\n",
    "      \"virus_injection_materials\": 1,\n",
    "      \"session_number\": { \"$arrayElemAt\": [\"$session_number.session_number\", 0] },\n",
    "      \"ophys_fov\": 1,\n",
    "    }\n",
    "  },\n",
    "  {'$unwind': {'path': '$ophys_fov', 'preserveNullAndEmptyArrays': False}},\n",
    "  {'$unwind': {'path': '$ophys_fov', 'preserveNullAndEmptyArrays': False}},\n",
    "  {'$unwind': {'path': '$virus_injection_materials', 'preserveNullAndEmptyArrays': False}}, \n",
    "  {'$unwind': {'path': '$virus_injection_materials', 'preserveNullAndEmptyArrays': False}},\n",
    "  {'$unwind': {'path': '$virus_injection_materials', 'preserveNullAndEmptyArrays': False}}\n",
    "  \n",
    "]\n",
    "\n",
    "records = docdb_api_client.aggregate_docdb_records(\n",
    "    pipeline = aggregate,\n",
    ")\n"
   ]
  },
  {
   "cell_type": "code",
   "execution_count": 5,
   "id": "09466a8d-98cd-4aba-9c66-15a33587ea22",
   "metadata": {
    "tags": []
   },
   "outputs": [],
   "source": [
    "bci_df = pd.DataFrame(records)\n",
    "bci_df.drop_duplicates(inplace=True)"
   ]
  },
  {
   "cell_type": "code",
   "execution_count": 49,
   "id": "0e6ea2f1-444e-444e-84a3-4be1be53ff8a",
   "metadata": {
    "tags": []
   },
   "outputs": [],
   "source": [
    "bci_df.to_csv('/data/metadata.csv', index= False)"
   ]
  }
 ],
 "metadata": {
  "kernelspec": {
   "display_name": "Python 3 (ipykernel)",
   "language": "python",
   "name": "python3"
  },
  "language_info": {
   "codemirror_mode": {
    "name": "ipython",
    "version": 3
   },
   "file_extension": ".py",
   "mimetype": "text/x-python",
   "name": "python",
   "nbconvert_exporter": "python",
   "pygments_lexer": "ipython3",
   "version": "3.10.12"
  }
 },
 "nbformat": 4,
 "nbformat_minor": 5
}
